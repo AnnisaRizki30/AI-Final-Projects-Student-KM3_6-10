{
  "nbformat": 4,
  "nbformat_minor": 0,
  "metadata": {
    "colab": {
      "provenance": []
    },
    "kernelspec": {
      "name": "python3",
      "display_name": "Python 3"
    },
    "language_info": {
      "name": "python"
    }
  },
  "cells": [
    {
      "cell_type": "code",
      "execution_count": null,
      "metadata": {
        "colab": {
          "base_uri": "https://localhost:8080/"
        },
        "id": "kE7QzdlnQu2-",
        "outputId": "11256153-3934-4d6f-ec5b-8e4c13f024fd"
      },
      "outputs": [
        {
          "output_type": "stream",
          "name": "stdout",
          "text": [
            "Mounted at /content/drive\n"
          ]
        }
      ],
      "source": [
        "                                                                                                                                                                                                                                                                                                                                             from google.colab import drive\n",
        "drive.mount('/content/drive')"
      ]
    },
    {
      "cell_type": "code",
      "source": [
        "import os\n",
        "import numpy as np\n",
        "import pandas as pd\n",
        "import tensorflow as tf\n",
        "import tensorflow.keras as keras\n",
        "from keras.preprocessing.image import ImageDataGenerator\n",
        "from tensorflow.keras.preprocessing import image\n",
        "from keras.models import Sequential\n",
        "from keras.layers import Conv2D, MaxPool2D, Flatten, Dense, Activation\n",
        "import matplotlib.pyplot as plt"
      ],
      "metadata": {
        "id": "v-YikFI5SDdM"
      },
      "execution_count": null,
      "outputs": []
    },
    {
      "cell_type": "code",
      "source": [
        "base_dir = \"/content/drive/Drive Saya/PA\""
      ],
      "metadata": {
        "id": "KBz4FWztRoC0"
      },
      "execution_count": null,
      "outputs": []
    },
    {
      "cell_type": "code",
      "source": [
        "#menentukan direktori\n",
        "dataset_dir = os.path.join(base_dir, \"DATASET\")\n",
        "train_dir =  os.path.join(base_dir, \"Training\")\n",
        "validation_dir = os.path.join(base_dir, \"Validasi\")"
      ],
      "metadata": {
        "id": "fJgOHm1ZRqOf"
      },
      "execution_count": null,
      "outputs": []
    },
    {
      "cell_type": "code",
      "source": [
        "#menentukan direktori isi dataset\n",
        "biru_dir = os.path.join(dataset_dir, \"/content/drive/MyDrive/PA/DATASET/Biru\")\n",
        "coklat_dir = os.path.join(dataset_dir,\"/content/drive/MyDrive/PA/DATASET/Coklat\")\n",
        "hijau_dir= os.path.join(dataset_dir,\"/content/drive/MyDrive/PA/DATASET/Hijau\")\n",
        "hitam_dir= os.path.join(dataset_dir,\"/content/drive/MyDrive/PA/DATASET/Hitam\")\n",
        "kuning_dir= os.path.join(dataset_dir, \"/content/drive/MyDrive/PA/DATASET/Kuning\")\n",
        "merah_dir= os.path.join(dataset_dir, \"/content/drive/MyDrive/PA/DATASET/Merah\")\n",
        "orange_dir = os.path.join(dataset_dir, \"/content/drive/MyDrive/PA/DATASET/Orange\")\n",
        "ungu_dir = os.path.join(dataset_dir, \"/content/drive/MyDrive/PA/DATASET/ungu\")\n",
        "\n",
        "print(\"Jumlah data tiap kelas\")\n",
        "print(\"Jumlah gambar berwarna biru:\", len(os.listdir(biru_dir)))\n",
        "print(\"Jumlah gambar berwarna coklat:\", len(os.listdir(coklat_dir)))\n",
        "print(\"Jumlah gambar berwarna hijau:\", len(os.listdir(hijau_dir)))\n",
        "print(\"Jumlah gambar berwarna hitam:\", len(os.listdir(hitam_dir)))\n",
        "print(\"Jumlah gambar berwarna kuning:\", len(os.listdir(kuning_dir)))\n",
        "print(\"Jumlah gambar berwarna merah:\", len(os.listdir(merah_dir)))\n",
        "print(\"Jumlah gambar berwarna orange:\", len(os.listdir(orange_dir)))\n",
        "print(\"Jumlah gambar berwarna ungu:\", len(os.listdir(ungu_dir)))"
      ],
      "metadata": {
        "colab": {
          "base_uri": "https://localhost:8080/"
        },
        "id": "-IWj4vvRQ4m_",
        "outputId": "a34ff9df-1708-4c8f-f635-8e343e82f97a"
      },
      "execution_count": null,
      "outputs": [
        {
          "output_type": "stream",
          "name": "stdout",
          "text": [
            "Jumlah data tiap kelas\n",
            "Jumlah gambar berwarna biru: 250\n",
            "Jumlah gambar berwarna coklat: 225\n",
            "Jumlah gambar berwarna hijau: 250\n",
            "Jumlah gambar berwarna hitam: 250\n",
            "Jumlah gambar berwarna kuning: 250\n",
            "Jumlah gambar berwarna merah: 248\n",
            "Jumlah gambar berwarna orange: 250\n",
            "Jumlah gambar berwarna ungu: 250\n"
          ]
        }
      ]
    },
    {
      "cell_type": "code",
      "source": [
        "biru_train_dir = os.path.join(dataset_dir, \"/content/drive/MyDrive/PA/Training/Biru\")\n",
        "coklat_train_dir = os.path.join(dataset_dir,\"/content/drive/MyDrive/PA/Training/Coklat\")\n",
        "hijau_train_dir= os.path.join(dataset_dir,\"/content/drive/MyDrive/PA/Training/Hijau\")\n",
        "hitam_train_dir= os.path.join(dataset_dir,\"/content/drive/MyDrive/PA/Training/Hitam\")\n",
        "kuning_train_dir= os.path.join(dataset_dir, \"/content/drive/MyDrive/PA/Training/Kuning\")\n",
        "merah_train_dir= os.path.join(dataset_dir, \"/content/drive/MyDrive/PA/Training/Merah\")\n",
        "orange_train_dir = os.path.join(dataset_dir, \"/content/drive/MyDrive/PA/Training/Orange\")\n",
        "ungu_train_dir = os.path.join(dataset_dir, \"/content/drive/MyDrive/PA/Training/ungu\")\n",
        "\n",
        "print(\"Jumlah data tiap kelas\")\n",
        "print(\"Jumlah gambar train berwarna biru:\", len(os.listdir(biru_train_dir)))\n",
        "print(\"Jumlah gambar train berwarna coklat:\", len(os.listdir(coklat_train_dir)))\n",
        "print(\"Jumlah gambar train berwarna hijau:\", len(os.listdir(hijau_train_dir)))\n",
        "print(\"Jumlah gambar train berwarna hitam:\", len(os.listdir(hitam_train_dir)))\n",
        "print(\"Jumlah gambar train berwarna kuning:\", len(os.listdir(kuning_train_dir)))\n",
        "print(\"Jumlah gambar train berwarna merah:\", len(os.listdir(merah_train_dir)))\n",
        "print(\"Jumlah gambar train berwarna orange:\", len(os.listdir(orange_train_dir)))\n",
        "print(\"Jumlah gambar train berwarna ungu:\", len(os.listdir(ungu_train_dir)))"
      ],
      "metadata": {
        "colab": {
          "base_uri": "https://localhost:8080/"
        },
        "id": "SkNQvjH6D8rZ",
        "outputId": "142d46e3-cb9c-484b-af7b-1ffa98a69ba8"
      },
      "execution_count": null,
      "outputs": [
        {
          "output_type": "stream",
          "name": "stdout",
          "text": [
            "Jumlah data tiap kelas\n",
            "Jumlah gambar train berwarna biru: 225\n",
            "Jumlah gambar train berwarna coklat: 248\n",
            "Jumlah gambar train berwarna hijau: 225\n",
            "Jumlah gambar train berwarna hitam: 225\n",
            "Jumlah gambar train berwarna kuning: 225\n",
            "Jumlah gambar train berwarna merah: 225\n",
            "Jumlah gambar train berwarna orange: 225\n",
            "Jumlah gambar train berwarna ungu: 225\n"
          ]
        }
      ]
    },
    {
      "cell_type": "code",
      "source": [
        "biru_val_dir = os.path.join(dataset_dir, \"/content/drive/MyDrive/PA/Validasi/Biru\")\n",
        "coklat_val_dir = os.path.join(dataset_dir,\"/content/drive/MyDrive/PA/Validasi/Coklat\")\n",
        "hijau_val_dir= os.path.join(dataset_dir,\"/content/drive/MyDrive/PA/Validasi/Hijau\")\n",
        "hitam_val_dir= os.path.join(dataset_dir,\"/content/drive/MyDrive/PA/Validasi/Hitam\")\n",
        "kuning_val_dir= os.path.join(dataset_dir, \"/content/drive/MyDrive/PA/Validasi/Kuning\")\n",
        "merah_val_dir= os.path.join(dataset_dir, \"/content/drive/MyDrive/PA/Validasi/Merah\")\n",
        "orange_val_dir = os.path.join(dataset_dir, \"/content/drive/MyDrive/PA/Validasi/Orange\")\n",
        "ungu_val_dir = os.path.join(dataset_dir, \"/content/drive/MyDrive/PA/Validasi/Ungu\")\n",
        "\n",
        "print(\"Jumlah data tiap kelas\")\n",
        "print(\"Jumlah gambar validasi berwarna biru:\", len(os.listdir(biru_val_dir)))\n",
        "print(\"Jumlah gambar validasi berwarna coklat:\", len(os.listdir(coklat_val_dir)))\n",
        "print(\"Jumlah gambar validasi berwarna hijau:\", len(os.listdir(hijau_val_dir)))\n",
        "print(\"Jumlah gambar validasi berwarna hitam:\", len(os.listdir(hitam_val_dir)))\n",
        "print(\"Jumlah gambar validasi berwarna kuning:\", len(os.listdir(kuning_val_dir)))\n",
        "print(\"Jumlah gambar validasi berwarna merah:\", len(os.listdir(merah_val_dir)))\n",
        "print(\"Jumlah gambar validasi berwarna orange:\", len(os.listdir(orange_val_dir)))\n",
        "print(\"Jumlah gambar validasi berwarna ungu:\", len(os.listdir(ungu_val_dir)))"
      ],
      "metadata": {
        "colab": {
          "base_uri": "https://localhost:8080/"
        },
        "id": "B5FLMTSuFKB5",
        "outputId": "e1e74fdc-fdcf-45a6-93a2-2286b797affc"
      },
      "execution_count": null,
      "outputs": [
        {
          "output_type": "stream",
          "name": "stdout",
          "text": [
            "Jumlah data tiap kelas\n",
            "Jumlah gambar validasi berwarna biru: 25\n",
            "Jumlah gambar validasi berwarna coklat: 25\n",
            "Jumlah gambar validasi berwarna hijau: 25\n",
            "Jumlah gambar validasi berwarna hitam: 25\n",
            "Jumlah gambar validasi berwarna kuning: 25\n",
            "Jumlah gambar validasi berwarna merah: 25\n",
            "Jumlah gambar validasi berwarna orange: 25\n",
            "Jumlah gambar validasi berwarna ungu: 25\n"
          ]
        }
      ]
    },
    {
      "cell_type": "code",
      "source": [
        "train_dir = \"/content/drive/MyDrive/PA/Training\"\n",
        "val_dir = \"/content/drive/MyDrive/PA/Validasi\""
      ],
      "metadata": {
        "id": "wuqahiH_RP_0"
      },
      "execution_count": null,
      "outputs": []
    },
    {
      "cell_type": "code",
      "source": [
        "img_height = 100\n",
        "img_width = 100"
      ],
      "metadata": {
        "id": "7_Km2E0sSPJi"
      },
      "execution_count": null,
      "outputs": []
    },
    {
      "cell_type": "code",
      "source": [
        "train_datagen = ImageDataGenerator(\n",
        "        rescale=1./255,\n",
        "        vertical_flip=True,\n",
        "        horizontal_flip=True,\n",
        "        rotation_range= 20\n",
        "        ) \n",
        "\n",
        "test_datagen = ImageDataGenerator(rescale=1./255)"
      ],
      "metadata": {
        "id": "ppQarrNdTkGh"
      },
      "execution_count": null,
      "outputs": []
    },
    {
      "cell_type": "code",
      "source": [
        "train_generator = train_datagen.flow_from_directory(\n",
        "                  train_dir,\n",
        "                  target_size=(200, 200),\n",
        "                  class_mode=\"categorical\"\n",
        "                  )"
      ],
      "metadata": {
        "id": "rz5uVzrkTnl9",
        "colab": {
          "base_uri": "https://localhost:8080/"
        },
        "outputId": "10f1618a-23f9-4c04-ca95-dd31f4f6da3b"
      },
      "execution_count": null,
      "outputs": [
        {
          "output_type": "stream",
          "name": "stdout",
          "text": [
            "Found 1823 images belonging to 8 classes.\n"
          ]
        }
      ]
    },
    {
      "cell_type": "code",
      "source": [
        "val_generator = test_datagen.flow_from_directory(\n",
        "                val_dir,\n",
        "                target_size=(200, 200),\n",
        "                class_mode=\"categorical\",\n",
        "                )"
      ],
      "metadata": {
        "id": "YoINfPppTrFU",
        "colab": {
          "base_uri": "https://localhost:8080/"
        },
        "outputId": "903844c0-c3f6-4227-f916-b7b0752097da"
      },
      "execution_count": null,
      "outputs": [
        {
          "output_type": "stream",
          "name": "stdout",
          "text": [
            "Found 200 images belonging to 8 classes.\n"
          ]
        }
      ]
    },
    {
      "cell_type": "code",
      "source": [
        "class_names = train_generator.class_indices\n",
        "print(class_names)"
      ],
      "metadata": {
        "id": "7LqSq327T2SZ",
        "colab": {
          "base_uri": "https://localhost:8080/"
        },
        "outputId": "67f0eb27-8d8a-4b8b-ced6-027f257ae4d5"
      },
      "execution_count": null,
      "outputs": [
        {
          "output_type": "stream",
          "name": "stdout",
          "text": [
            "{'Biru': 0, 'Coklat': 1, 'Hijau': 2, 'Hitam': 3, 'Kuning': 4, 'Merah': 5, 'Orange': 6, 'ungu': 7}\n"
          ]
        }
      ]
    },
    {
      "cell_type": "code",
      "source": [
        "li = list(class_names.keys())\n",
        "li"
      ],
      "metadata": {
        "colab": {
          "base_uri": "https://localhost:8080/"
        },
        "id": "MZkORJ6XAc5O",
        "outputId": "f3c9b09d-ddcf-41db-be26-e3b09b5456ee"
      },
      "execution_count": null,
      "outputs": [
        {
          "output_type": "execute_result",
          "data": {
            "text/plain": [
              "['Biru', 'Coklat', 'Hijau', 'Hitam', 'Kuning', 'Merah', 'Orange', 'ungu']"
            ]
          },
          "metadata": {},
          "execution_count": 50
        }
      ]
    },
    {
      "cell_type": "code",
      "source": [
        "class myCallback(tf.keras.callbacks.Callback):\n",
        "  def on_epoch_end(self, epoch, logs = {}):\n",
        "    if(logs.get('accuracy') > 0.99):\n",
        "      print('\\nAkurasi mencapai 99%')\n",
        "      self.model.stop_training = True\n",
        "\n",
        "callbacks = myCallback()"
      ],
      "metadata": {
        "id": "Ixl7rp7fIA7t"
      },
      "execution_count": null,
      "outputs": []
    },
    {
      "cell_type": "code",
      "source": [
        "from keras import backend"
      ],
      "metadata": {
        "id": "uUa8DzuRVdsH"
      },
      "execution_count": null,
      "outputs": []
    },
    {
      "cell_type": "code",
      "source": [
        "backend.clear_session()\n",
        "\n",
        "model = Sequential()\n",
        "\n",
        "model.add(Conv2D(32, 3, input_shape=(200, 200,3), activation='relu'))\n",
        "model.add(MaxPool2D(2, 2))\n",
        "model.add(Conv2D(64, 3, activation='relu'))\n",
        "model.add(MaxPool2D(2, 2))\n",
        "model.add(Conv2D(128, 3, activation='relu'))\n",
        "model.add(Conv2D(128, 3, activation='relu'))\n",
        "model.add(MaxPool2D(2, 2))\n",
        "model.add(Conv2D(256, 3, activation='relu'))\n",
        "model.add(Conv2D(256, 3, activation='relu'))\n",
        "model.add(MaxPool2D(2, 2))\n",
        "\n",
        "model.add(Flatten())\n",
        "\n",
        "model.add(Dense(8, activation='softmax'))"
      ],
      "metadata": {
        "id": "Cl9wwS6dVivr"
      },
      "execution_count": null,
      "outputs": []
    },
    {
      "cell_type": "code",
      "source": [
        "model.summary()"
      ],
      "metadata": {
        "id": "88ytlp_IVk_X",
        "colab": {
          "base_uri": "https://localhost:8080/"
        },
        "outputId": "8cd710bd-206e-4357-fd82-5ac6bac0b771"
      },
      "execution_count": null,
      "outputs": [
        {
          "output_type": "stream",
          "name": "stdout",
          "text": [
            "Model: \"sequential\"\n",
            "_________________________________________________________________\n",
            " Layer (type)                Output Shape              Param #   \n",
            "=================================================================\n",
            " conv2d (Conv2D)             (None, 198, 198, 32)      896       \n",
            "                                                                 \n",
            " max_pooling2d (MaxPooling2D  (None, 99, 99, 32)       0         \n",
            " )                                                               \n",
            "                                                                 \n",
            " conv2d_1 (Conv2D)           (None, 97, 97, 64)        18496     \n",
            "                                                                 \n",
            " max_pooling2d_1 (MaxPooling  (None, 48, 48, 64)       0         \n",
            " 2D)                                                             \n",
            "                                                                 \n",
            " conv2d_2 (Conv2D)           (None, 46, 46, 128)       73856     \n",
            "                                                                 \n",
            " conv2d_3 (Conv2D)           (None, 44, 44, 128)       147584    \n",
            "                                                                 \n",
            " max_pooling2d_2 (MaxPooling  (None, 22, 22, 128)      0         \n",
            " 2D)                                                             \n",
            "                                                                 \n",
            " conv2d_4 (Conv2D)           (None, 20, 20, 256)       295168    \n",
            "                                                                 \n",
            " conv2d_5 (Conv2D)           (None, 18, 18, 256)       590080    \n",
            "                                                                 \n",
            " max_pooling2d_3 (MaxPooling  (None, 9, 9, 256)        0         \n",
            " 2D)                                                             \n",
            "                                                                 \n",
            " flatten (Flatten)           (None, 20736)             0         \n",
            "                                                                 \n",
            " dense (Dense)               (None, 8)                 165896    \n",
            "                                                                 \n",
            "=================================================================\n",
            "Total params: 1,291,976\n",
            "Trainable params: 1,291,976\n",
            "Non-trainable params: 0\n",
            "_________________________________________________________________\n"
          ]
        }
      ]
    },
    {
      "cell_type": "code",
      "source": [
        "model.compile(\n",
        "    optimizer=tf.keras.optimizers.Adam(learning_rate=0.0001),\n",
        "    loss=tf.keras.losses.CategoricalCrossentropy(),\n",
        "    metrics=['accuracy'])"
      ],
      "metadata": {
        "id": "LRcZHOWbVpKb"
      },
      "execution_count": null,
      "outputs": []
    },
    {
      "cell_type": "code",
      "source": [
        "from PIL import ImageFile\n",
        "ImageFile.LOAD_TRUNCATED_IMAGES = True\n",
        "\n",
        "history = model.fit(\n",
        "            train_generator,\n",
        "            steps_per_epoch = 20,\n",
        "            epochs = 50,\n",
        "            validation_data = val_generator,\n",
        "            validation_steps = 5,\n",
        "            verbose = 1,\n",
        "            callbacks = [callbacks]\n",
        ")"
      ],
      "metadata": {
        "id": "xPj4FMPzVsKF",
        "colab": {
          "base_uri": "https://localhost:8080/"
        },
        "outputId": "3a8e62eb-3e57-4f1a-e055-59f7a6c23ce4"
      },
      "execution_count": null,
      "outputs": [
        {
          "output_type": "stream",
          "name": "stdout",
          "text": [
            "Epoch 1/50\n",
            " 2/20 [==>...........................] - ETA: 3:15 - loss: 2.0723 - accuracy: 0.0781"
          ]
        },
        {
          "output_type": "stream",
          "name": "stderr",
          "text": [
            "/usr/local/lib/python3.7/dist-packages/PIL/Image.py:960: UserWarning: Palette images with Transparency expressed in bytes should be converted to RGBA images\n",
            "  \"Palette images with Transparency expressed in bytes should be \"\n"
          ]
        },
        {
          "output_type": "stream",
          "name": "stdout",
          "text": [
            "20/20 [==============================] - 285s 14s/step - loss: 1.9546 - accuracy: 0.2676 - val_loss: 1.6841 - val_accuracy: 0.5188\n",
            "Epoch 2/50\n",
            "20/20 [==============================] - 158s 8s/step - loss: 1.2959 - accuracy: 0.5422 - val_loss: 0.9006 - val_accuracy: 0.7750\n",
            "Epoch 3/50\n",
            "20/20 [==============================] - 131s 6s/step - loss: 0.8347 - accuracy: 0.7141 - val_loss: 0.8998 - val_accuracy: 0.6375\n",
            "Epoch 4/50\n",
            "20/20 [==============================] - 142s 7s/step - loss: 0.5822 - accuracy: 0.8047 - val_loss: 0.4783 - val_accuracy: 0.8687\n",
            "Epoch 5/50\n",
            "20/20 [==============================] - 115s 6s/step - loss: 0.4669 - accuracy: 0.8250 - val_loss: 0.3885 - val_accuracy: 0.8500\n",
            "Epoch 6/50\n",
            "20/20 [==============================] - 116s 6s/step - loss: 0.4577 - accuracy: 0.8172 - val_loss: 0.3481 - val_accuracy: 0.8813\n",
            "Epoch 7/50\n",
            "20/20 [==============================] - 132s 6s/step - loss: 0.2757 - accuracy: 0.9078 - val_loss: 0.1462 - val_accuracy: 0.9625\n",
            "Epoch 8/50\n",
            "20/20 [==============================] - 120s 6s/step - loss: 0.2184 - accuracy: 0.9280 - val_loss: 0.2143 - val_accuracy: 0.9500\n",
            "Epoch 9/50\n",
            "20/20 [==============================] - 116s 6s/step - loss: 0.1957 - accuracy: 0.9297 - val_loss: 0.1702 - val_accuracy: 0.9438\n",
            "Epoch 10/50\n",
            "20/20 [==============================] - 118s 6s/step - loss: 0.1754 - accuracy: 0.9375 - val_loss: 0.1535 - val_accuracy: 0.9500\n",
            "Epoch 11/50\n",
            "20/20 [==============================] - 114s 6s/step - loss: 0.2021 - accuracy: 0.9266 - val_loss: 0.1620 - val_accuracy: 0.9563\n",
            "Epoch 12/50\n",
            "20/20 [==============================] - 115s 6s/step - loss: 0.1915 - accuracy: 0.9297 - val_loss: 0.1577 - val_accuracy: 0.9500\n",
            "Epoch 13/50\n",
            "20/20 [==============================] - 114s 6s/step - loss: 0.1339 - accuracy: 0.9453 - val_loss: 0.0478 - val_accuracy: 0.9875\n",
            "Epoch 14/50\n",
            "20/20 [==============================] - 114s 6s/step - loss: 0.1452 - accuracy: 0.9422 - val_loss: 0.1194 - val_accuracy: 0.9688\n",
            "Epoch 15/50\n",
            "20/20 [==============================] - 118s 6s/step - loss: 0.1112 - accuracy: 0.9687 - val_loss: 0.1015 - val_accuracy: 0.9625\n",
            "Epoch 16/50\n",
            "20/20 [==============================] - 125s 6s/step - loss: 0.1158 - accuracy: 0.9609 - val_loss: 0.1248 - val_accuracy: 0.9625\n",
            "Epoch 17/50\n",
            "20/20 [==============================] - 127s 6s/step - loss: 0.1255 - accuracy: 0.9547 - val_loss: 0.1077 - val_accuracy: 0.9625\n",
            "Epoch 18/50\n",
            "20/20 [==============================] - 121s 6s/step - loss: 0.1152 - accuracy: 0.9547 - val_loss: 0.1259 - val_accuracy: 0.9438\n",
            "Epoch 19/50\n",
            "20/20 [==============================] - 113s 6s/step - loss: 0.1756 - accuracy: 0.9422 - val_loss: 0.1560 - val_accuracy: 0.9563\n",
            "Epoch 20/50\n",
            "20/20 [==============================] - 113s 6s/step - loss: 0.1125 - accuracy: 0.9624 - val_loss: 0.0775 - val_accuracy: 0.9625\n",
            "Epoch 21/50\n",
            "20/20 [==============================] - 114s 6s/step - loss: 0.0687 - accuracy: 0.9766 - val_loss: 0.0639 - val_accuracy: 0.9688\n",
            "Epoch 22/50\n",
            "20/20 [==============================] - 114s 6s/step - loss: 0.0873 - accuracy: 0.9656 - val_loss: 0.1603 - val_accuracy: 0.9500\n",
            "Epoch 23/50\n",
            "20/20 [==============================] - 112s 6s/step - loss: 0.1593 - accuracy: 0.9468 - val_loss: 0.0436 - val_accuracy: 0.9812\n",
            "Epoch 24/50\n",
            "20/20 [==============================] - 114s 6s/step - loss: 0.1271 - accuracy: 0.9516 - val_loss: 0.1475 - val_accuracy: 0.9438\n",
            "Epoch 25/50\n",
            "20/20 [==============================] - 115s 6s/step - loss: 0.1640 - accuracy: 0.9406 - val_loss: 0.1017 - val_accuracy: 0.9750\n",
            "Epoch 26/50\n",
            "20/20 [==============================] - 113s 6s/step - loss: 0.0977 - accuracy: 0.9641 - val_loss: 0.0437 - val_accuracy: 0.9937\n",
            "Epoch 27/50\n",
            "20/20 [==============================] - 114s 6s/step - loss: 0.1420 - accuracy: 0.9516 - val_loss: 0.0778 - val_accuracy: 0.9625\n",
            "Epoch 28/50\n",
            "20/20 [==============================] - 112s 6s/step - loss: 0.0993 - accuracy: 0.9641 - val_loss: 0.0477 - val_accuracy: 0.9812\n",
            "Epoch 29/50\n",
            "20/20 [==============================] - 118s 6s/step - loss: 0.0847 - accuracy: 0.9718 - val_loss: 0.1004 - val_accuracy: 0.9688\n",
            "Epoch 30/50\n",
            "20/20 [==============================] - 113s 6s/step - loss: 0.0940 - accuracy: 0.9593 - val_loss: 0.0745 - val_accuracy: 0.9812\n",
            "Epoch 31/50\n",
            "20/20 [==============================] - 114s 6s/step - loss: 0.0801 - accuracy: 0.9765 - val_loss: 0.0488 - val_accuracy: 0.9812\n",
            "Epoch 32/50\n",
            "20/20 [==============================] - 115s 6s/step - loss: 0.1099 - accuracy: 0.9577 - val_loss: 0.0658 - val_accuracy: 0.9750\n",
            "Epoch 33/50\n",
            "20/20 [==============================] - 115s 6s/step - loss: 0.1901 - accuracy: 0.9375 - val_loss: 0.0796 - val_accuracy: 0.9688\n",
            "Epoch 34/50\n",
            "20/20 [==============================] - 113s 6s/step - loss: 0.1820 - accuracy: 0.9249 - val_loss: 0.0844 - val_accuracy: 0.9688\n",
            "Epoch 35/50\n",
            "20/20 [==============================] - 111s 6s/step - loss: 0.0891 - accuracy: 0.9812 - val_loss: 0.0786 - val_accuracy: 0.9688\n",
            "Epoch 36/50\n",
            "20/20 [==============================] - 113s 6s/step - loss: 0.0932 - accuracy: 0.9656 - val_loss: 0.0701 - val_accuracy: 0.9625\n",
            "Epoch 37/50\n",
            "20/20 [==============================] - 113s 6s/step - loss: 0.0787 - accuracy: 0.9750 - val_loss: 0.0229 - val_accuracy: 0.9875\n",
            "Epoch 38/50\n",
            "20/20 [==============================] - 111s 6s/step - loss: 0.0502 - accuracy: 0.9859 - val_loss: 0.0316 - val_accuracy: 0.9937\n",
            "Epoch 39/50\n",
            "20/20 [==============================] - 115s 6s/step - loss: 0.0893 - accuracy: 0.9766 - val_loss: 0.0368 - val_accuracy: 0.9812\n",
            "Epoch 40/50\n",
            "20/20 [==============================] - 113s 6s/step - loss: 0.0598 - accuracy: 0.9844 - val_loss: 0.0425 - val_accuracy: 0.9812\n",
            "Epoch 41/50\n",
            "20/20 [==============================] - 113s 6s/step - loss: 0.0567 - accuracy: 0.9765 - val_loss: 0.0434 - val_accuracy: 0.9750\n",
            "Epoch 42/50\n",
            "20/20 [==============================] - 114s 6s/step - loss: 0.0832 - accuracy: 0.9719 - val_loss: 0.0667 - val_accuracy: 0.9812\n",
            "Epoch 43/50\n",
            "20/20 [==============================] - 112s 6s/step - loss: 0.0677 - accuracy: 0.9734 - val_loss: 0.0501 - val_accuracy: 0.9688\n",
            "Epoch 44/50\n",
            "20/20 [==============================] - 115s 6s/step - loss: 0.0628 - accuracy: 0.9781 - val_loss: 0.0995 - val_accuracy: 0.9563\n",
            "Epoch 45/50\n",
            "20/20 [==============================] - 116s 6s/step - loss: 0.0802 - accuracy: 0.9718 - val_loss: 0.0206 - val_accuracy: 0.9937\n",
            "Epoch 46/50\n",
            "20/20 [==============================] - 115s 6s/step - loss: 0.0717 - accuracy: 0.9750 - val_loss: 0.0642 - val_accuracy: 0.9750\n",
            "Epoch 47/50\n",
            "20/20 [==============================] - 112s 6s/step - loss: 0.0522 - accuracy: 0.9828 - val_loss: 0.0740 - val_accuracy: 0.9750\n",
            "Epoch 48/50\n",
            "20/20 [==============================] - 116s 6s/step - loss: 0.0560 - accuracy: 0.9859 - val_loss: 0.0279 - val_accuracy: 0.9875\n",
            "Epoch 49/50\n",
            "20/20 [==============================] - 114s 6s/step - loss: 0.0486 - accuracy: 0.9828 - val_loss: 0.0216 - val_accuracy: 1.0000\n",
            "Epoch 50/50\n",
            "20/20 [==============================] - 114s 6s/step - loss: 0.0734 - accuracy: 0.9812 - val_loss: 0.0824 - val_accuracy: 0.9875\n"
          ]
        }
      ]
    },
    {
      "cell_type": "code",
      "source": [
        "acc = history.history['accuracy']\n",
        "val_acc = history.history['val_accuracy']\n",
        "\n",
        "loss = history.history['loss']\n",
        "val_loss = history.history['val_loss']\n",
        "\n",
        "epochs_range = range(50)\n",
        "\n",
        "plt.figure(figsize=(15, 5))\n",
        "plt.subplot(1, 2, 1)\n",
        "plt.plot(epochs_range, acc, label='Training Accuracy')\n",
        "plt.plot(epochs_range, val_acc, label='Validation Accuracy')\n",
        "plt.legend(loc='lower right')\n",
        "plt.title('Training and Validation Accuracy')\n",
        "\n",
        "plt.subplot(1, 2, 2)\n",
        "plt.plot(epochs_range, loss, label='Training Loss')\n",
        "plt.plot(epochs_range, val_loss, label='Validation Loss')\n",
        "plt.legend(loc='upper right')\n",
        "plt.title('Training and Validation Loss')\n",
        "plt.show()"
      ],
      "metadata": {
        "id": "xCjsOycNV9gk",
        "colab": {
          "base_uri": "https://localhost:8080/",
          "height": 336
        },
        "outputId": "96abc13f-05b9-4993-caee-47f6400a7cc4"
      },
      "execution_count": null,
      "outputs": [
        {
          "output_type": "display_data",
          "data": {
            "text/plain": [
              "<Figure size 1080x360 with 2 Axes>"
            ],
            "image/png": "[encoded data removed]"
          },
          "metadata": {
            "needs_background": "light"
          }
        }
      ]
    },
    {
      "cell_type": "code",
      "source": [
        "score = model.evaluate(train_generator)\n",
        "\n",
        "print('Loss: {:.4f}'.format(score[0]))\n",
        "print('Accuracy: {:.4f}'.format(score[1]))"
      ],
      "metadata": {
        "id": "dU7GXC0zWCKL",
        "colab": {
          "base_uri": "https://localhost:8080/"
        },
        "outputId": "ca6ea547-f0e3-4657-a88f-583e27327dfe"
      },
      "execution_count": null,
      "outputs": [
        {
          "output_type": "stream",
          "name": "stdout",
          "text": [
            "57/57 [==============================] - 106s 2s/step - loss: 0.1403 - accuracy: 0.9589\n",
            "Loss: 0.1403\n",
            "Accuracy: 0.9589\n"
          ]
        }
      ]
    },
    {
      "cell_type": "code",
      "source": [
        "score = model.evaluate(val_generator)\n",
        "\n",
        "print('Loss: {:.4f}'.format(score[0]))\n",
        "print('Accuracy: {:.4f}'.format(score[1]))"
      ],
      "metadata": {
        "id": "qU_cKioVWFWr",
        "colab": {
          "base_uri": "https://localhost:8080/"
        },
        "outputId": "68a35d6d-b658-4b80-9265-435513d358fd"
      },
      "execution_count": null,
      "outputs": [
        {
          "output_type": "stream",
          "name": "stdout",
          "text": [
            "7/7 [==============================] - 9s 1s/step - loss: 0.1168 - accuracy: 0.9800\n",
            "Loss: 0.1168\n",
            "Accuracy: 0.9800\n"
          ]
        }
      ]
    },
    {
      "cell_type": "code",
      "source": [
        "import matplotlib.pyplot as plt\n",
        "import numpy\n",
        "from sklearn import metrics\n",
        "\n",
        "Y_pred = model.predict(val_generator, val_generator.n // 32 + 1)\n",
        "y_pred = np.argmax(Y_pred, axis=1)\n",
        "\n",
        "confusion_matrix = metrics.confusion_matrix(val_generator.classes, y_pred)\n",
        "\n",
        "cm_display = metrics.ConfusionMatrixDisplay(confusion_matrix = confusion_matrix)\n",
        "\n",
        "cm_display.plot()\n",
        "plt.show()\n",
        "\n",
        "print('True Positive = ', confusion_matrix[1,1])\n",
        "print('False Positive = ', confusion_matrix[0,1])\n",
        "print('True Negative = ', confusion_matrix[0,0])\n",
        "print('False Negative = ', confusion_matrix[1,0])"
      ],
      "metadata": {
        "colab": {
          "base_uri": "https://localhost:8080/",
          "height": 370
        },
        "id": "QOGbbOcpA1HQ",
        "outputId": "ed01105f-ee2e-4684-e56b-96cccfd7c6b0"
      },
      "execution_count": null,
      "outputs": [
        {
          "output_type": "stream",
          "name": "stdout",
          "text": [
            "7/7 [==============================] - 9s 1s/step\n"
          ]
        },
        {
          "output_type": "display_data",
          "data": {
            "text/plain": [
              "<Figure size 432x288 with 2 Axes>"
            ],
            "image/png": "[encoded data removed]"
          },
          "metadata": {
            "needs_background": "light"
          }
        },
        {
          "output_type": "stream",
          "name": "stdout",
          "text": [
            "True Positive =  6\n",
            "False Positive =  2\n",
            "True Negative =  1\n",
            "False Negative =  5\n"
          ]
        }
      ]
    },
    {
      "cell_type": "code",
      "source": [
        "evaluation = pd.DataFrame({'Model': [],\n",
        "                           'Data_Train': [],\n",
        "                           'Data_Valid': [],\n",
        "                           'Epochs': [],\n",
        "                           'Batch_Size': [],\n",
        "                           'Loss': [],\n",
        "                           'Accuracy': []\n",
        "})\n",
        "\n",
        "r = evaluation.shape[0]\n",
        "evaluation.loc[r] = ['CNN', train_generator.n, val_generator.n, 50, 32, score[0], score[1]]\n",
        "evaluation"
      ],
      "metadata": {
        "colab": {
          "base_uri": "https://localhost:8080/",
          "height": 81
        },
        "id": "V8Nh1dOPBpR6",
        "outputId": "9aade01a-831e-407e-a7cb-b82d30006244"
      },
      "execution_count": null,
      "outputs": [
        {
          "output_type": "execute_result",
          "data": {
            "text/plain": [
              "  Model  Data_Train  Data_Valid  Epochs  Batch_Size      Loss  Accuracy\n",
              "0   CNN      1823.0       200.0    50.0        32.0  0.116782      0.98"
            ],
            "text/html": [
              "\n",
              "  <div id=\"df-863216a2-a730-47e6-81ec-e2585bcfa39e\">\n",
              "    <div class=\"colab-df-container\">\n",
              "      <div>\n",
              "<style scoped>\n",
              "    .dataframe tbody tr th:only-of-type {\n",
              "        vertical-align: middle;\n",
              "    }\n",
              "\n",
              "    .dataframe tbody tr th {\n",
              "        vertical-align: top;\n",
              "    }\n",
              "\n",
              "    .dataframe thead th {\n",
              "        text-align: right;\n",
              "    }\n",
              "</style>\n",
              "<table border=\"1\" class=\"dataframe\">\n",
              "  <thead>\n",
              "    <tr style=\"text-align: right;\">\n",
              "      <th></th>\n",
              "      <th>Model</th>\n",
              "      <th>Data_Train</th>\n",
              "      <th>Data_Valid</th>\n",
              "      <th>Epochs</th>\n",
              "      <th>Batch_Size</th>\n",
              "      <th>Loss</th>\n",
              "      <th>Accuracy</th>\n",
              "    </tr>\n",
              "  </thead>\n",
              "  <tbody>\n",
              "    <tr>\n",
              "      <th>0</th>\n",
              "      <td>CNN</td>\n",
              "      <td>1823.0</td>\n",
              "      <td>200.0</td>\n",
              "      <td>50.0</td>\n",
              "      <td>32.0</td>\n",
              "      <td>0.116782</td>\n",
              "      <td>0.98</td>\n",
              "    </tr>\n",
              "  </tbody>\n",
              "</table>\n",
              "</div>\n",
              "      <button class=\"colab-df-convert\" onclick=\"convertToInteractive('df-863216a2-a730-47e6-81ec-e2585bcfa39e')\"\n",
              "              title=\"Convert this dataframe to an interactive table.\"\n",
              "              style=\"display:none;\">\n",
              "        \n",
              "  <svg xmlns=\"http://www.w3.org/2000/svg\" height=\"24px\"viewBox=\"0 0 24 24\"\n",
              "       width=\"24px\">\n",
              "    <path d=\"M0 0h24v24H0V0z\" fill=\"none\"/>\n",
              "    <path d=\"M18.56 5.44l.94 2.06.94-2.06 2.06-.94-2.06-.94-.94-2.06-.94 2.06-2.06.94zm-11 1L8.5 8.5l.94-2.06 2.06-.94-2.06-.94L8.5 2.5l-.94 2.06-2.06.94zm10 10l.94 2.06.94-2.06 2.06-.94-2.06-.94-.94-2.06-.94 2.06-2.06.94z\"/><path d=\"M17.41 7.96l-1.37-1.37c-.4-.4-.92-.59-1.43-.59-.52 0-1.04.2-1.43.59L10.3 9.45l-7.72 7.72c-.78.78-.78 2.05 0 2.83L4 21.41c.39.39.9.59 1.41.59.51 0 1.02-.2 1.41-.59l7.78-7.78 2.81-2.81c.8-.78.8-2.07 0-2.86zM5.41 20L4 18.59l7.72-7.72 1.47 1.35L5.41 20z\"/>\n",
              "  </svg>\n",
              "      </button>\n",
              "      \n",
              "  <style>\n",
              "    .colab-df-container {\n",
              "      display:flex;\n",
              "      flex-wrap:wrap;\n",
              "      gap: 12px;\n",
              "    }\n",
              "\n",
              "    .colab-df-convert {\n",
              "      background-color: #E8F0FE;\n",
              "      border: none;\n",
              "      border-radius: 50%;\n",
              "      cursor: pointer;\n",
              "      display: none;\n",
              "      fill: #1967D2;\n",
              "      height: 32px;\n",
              "      padding: 0 0 0 0;\n",
              "      width: 32px;\n",
              "    }\n",
              "\n",
              "    .colab-df-convert:hover {\n",
              "      background-color: #E2EBFA;\n",
              "      box-shadow: 0px 1px 2px rgba(60, 64, 67, 0.3), 0px 1px 3px 1px rgba(60, 64, 67, 0.15);\n",
              "      fill: #174EA6;\n",
              "    }\n",
              "\n",
              "    [theme=dark] .colab-df-convert {\n",
              "      background-color: #3B4455;\n",
              "      fill: #D2E3FC;\n",
              "    }\n",
              "\n",
              "    [theme=dark] .colab-df-convert:hover {\n",
              "      background-color: #434B5C;\n",
              "      box-shadow: 0px 1px 3px 1px rgba(0, 0, 0, 0.15);\n",
              "      filter: drop-shadow(0px 1px 2px rgba(0, 0, 0, 0.3));\n",
              "      fill: #FFFFFF;\n",
              "    }\n",
              "  </style>\n",
              "\n",
              "      <script>\n",
              "        const buttonEl =\n",
              "          document.querySelector('#df-863216a2-a730-47e6-81ec-e2585bcfa39e button.colab-df-convert');\n",
              "        buttonEl.style.display =\n",
              "          google.colab.kernel.accessAllowed ? 'block' : 'none';\n",
              "\n",
              "        async function convertToInteractive(key) {\n",
              "          const element = document.querySelector('#df-863216a2-a730-47e6-81ec-e2585bcfa39e');\n",
              "          const dataTable =\n",
              "            await google.colab.kernel.invokeFunction('convertToInteractive',\n",
              "                                                     [key], {});\n",
              "          if (!dataTable) return;\n",
              "\n",
              "          const docLinkHtml = 'Like what you see? Visit the ' +\n",
              "            '<a target=\"_blank\" href=https://colab.research.google.com/notebooks/data_table.ipynb>data table notebook</a>'\n",
              "            + ' to learn more about interactive tables.';\n",
              "          element.innerHTML = '';\n",
              "          dataTable['output_type'] = 'display_data';\n",
              "          await google.colab.output.renderOutput(dataTable, element);\n",
              "          const docLink = document.createElement('div');\n",
              "          docLink.innerHTML = docLinkHtml;\n",
              "          element.appendChild(docLink);\n",
              "        }\n",
              "      </script>\n",
              "    </div>\n",
              "  </div>\n",
              "  "
            ]
          },
          "metadata": {},
          "execution_count": 29
        }
      ]
    },
    {
      "cell_type": "code",
      "source": [
        "my_model = tf.keras.models.load_model(\"/content/drive/MyDrive/PA/Model/model.h5\", compile=True)"
      ],
      "metadata": {
        "id": "wzNTm0G38lsP"
      },
      "execution_count": null,
      "outputs": []
    },
    {
      "cell_type": "code",
      "source": [
        "#predicting by upload file\n",
        "from google.colab import files\n",
        "\n",
        "uploaded = files.upload()\n",
        "\n",
        "for fn in uploaded.keys():\n",
        "  image_path = fn\n",
        "  new_img = image.load_img(image_path, target_size=(200,200))\n",
        "  img = image.img_to_array(new_img)\n",
        "  img = np.expand_dims(img, axis=0)\n",
        "  img = img/255\n",
        "\n",
        "  images = np.vstack([img])\n",
        "  print(\"Hasil Prediksi: \")\n",
        "  prediction = my_model.predict(img)\n",
        "\n",
        "  d = prediction.flatten()\n",
        "  j = d.max()\n",
        "  for index, item in enumerate(d):\n",
        "    if item == j:\n",
        "      class_name = li[index]\n",
        "\n",
        "  #ploting image with predicted class name\n",
        "  plt.figure(figsize =(4,4))\n",
        "  plt.imshow(new_img)\n",
        "  #plt.axis('off')\n",
        "  plt.title(class_name)\n",
        "  plt.show()"
      ],
      "metadata": {
        "colab": {
          "base_uri": "https://localhost:8080/",
          "height": 371
        },
        "id": "dcWaUC0_BvWd",
        "outputId": "25fae861-f228-4e32-851b-ca15e51686e4"
      },
      "execution_count": null,
      "outputs": [
        {
          "output_type": "display_data",
          "data": {
            "text/plain": [
              "<IPython.core.display.HTML object>"
            ],
            "text/html": [
              "\n",
              "     <input type=\"file\" id=\"files-fd36f190-3d73-4249-82ed-577a5140d9ad\" name=\"files[]\" multiple disabled\n",
              "        style=\"border:none\" />\n",
              "     <output id=\"result-fd36f190-3d73-4249-82ed-577a5140d9ad\">\n",
              "      Upload widget is only available when the cell has been executed in the\n",
              "      current browser session. Please rerun this cell to enable.\n",
              "      </output>\n",
              "      <script>// Copyright 2017 Google LLC\n",
              "//\n",
              "// Licensed under the Apache License, Version 2.0 (the \"License\");\n",
              "// you may not use this file except in compliance with the License.\n",
              "// You may obtain a copy of the License at\n",
              "//\n",
              "//      http://www.apache.org/licenses/LICENSE-2.0\n",
              "//\n",
              "// Unless required by applicable law or agreed to in writing, software\n",
              "// distributed under the License is distributed on an \"AS IS\" BASIS,\n",
              "// WITHOUT WARRANTIES OR CONDITIONS OF ANY KIND, either express or implied.\n",
              "// See the License for the specific language governing permissions and\n",
              "// limitations under the License.\n",
              "\n",
              "/**\n",
              " * @fileoverview Helpers for google.colab Python module.\n",
              " */\n",
              "(function(scope) {\n",
              "function span(text, styleAttributes = {}) {\n",
              "  const element = document.createElement('span');\n",
              "  element.textContent = text;\n",
              "  for (const key of Object.keys(styleAttributes)) {\n",
              "    element.style[key] = styleAttributes[key];\n",
              "  }\n",
              "  return element;\n",
              "}\n",
              "\n",
              "// Max number of bytes which will be uploaded at a time.\n",
              "const MAX_PAYLOAD_SIZE = 100 * 1024;\n",
              "\n",
              "function _uploadFiles(inputId, outputId) {\n",
              "  const steps = uploadFilesStep(inputId, outputId);\n",
              "  const outputElement = document.getElementById(outputId);\n",
              "  // Cache steps on the outputElement to make it available for the next call\n",
              "  // to uploadFilesContinue from Python.\n",
              "  outputElement.steps = steps;\n",
              "\n",
              "  return _uploadFilesContinue(outputId);\n",
              "}\n",
              "\n",
              "// This is roughly an async generator (not supported in the browser yet),\n",
              "// where there are multiple asynchronous steps and the Python side is going\n",
              "// to poll for completion of each step.\n",
              "// This uses a Promise to block the python side on completion of each step,\n",
              "// then passes the result of the previous step as the input to the next step.\n",
              "function _uploadFilesContinue(outputId) {\n",
              "  const outputElement = document.getElementById(outputId);\n",
              "  const steps = outputElement.steps;\n",
              "\n",
              "  const next = steps.next(outputElement.lastPromiseValue);\n",
              "  return Promise.resolve(next.value.promise).then((value) => {\n",
              "    // Cache the last promise value to make it available to the next\n",
              "    // step of the generator.\n",
              "    outputElement.lastPromiseValue = value;\n",
              "    return next.value.response;\n",
              "  });\n",
              "}\n",
              "\n",
              "/**\n",
              " * Generator function which is called between each async step of the upload\n",
              " * process.\n",
              " * @param {string} inputId Element ID of the input file picker element.\n",
              " * @param {string} outputId Element ID of the output display.\n",
              " * @return {!Iterable<!Object>} Iterable of next steps.\n",
              " */\n",
              "function* uploadFilesStep(inputId, outputId) {\n",
              "  const inputElement = document.getElementById(inputId);\n",
              "  inputElement.disabled = false;\n",
              "\n",
              "  const outputElement = document.getElementById(outputId);\n",
              "  outputElement.innerHTML = '';\n",
              "\n",
              "  const pickedPromise = new Promise((resolve) => {\n",
              "    inputElement.addEventListener('change', (e) => {\n",
              "      resolve(e.target.files);\n",
              "    });\n",
              "  });\n",
              "\n",
              "  const cancel = document.createElement('button');\n",
              "  inputElement.parentElement.appendChild(cancel);\n",
              "  cancel.textContent = 'Cancel upload';\n",
              "  const cancelPromise = new Promise((resolve) => {\n",
              "    cancel.onclick = () => {\n",
              "      resolve(null);\n",
              "    };\n",
              "  });\n",
              "\n",
              "  // Wait for the user to pick the files.\n",
              "  const files = yield {\n",
              "    promise: Promise.race([pickedPromise, cancelPromise]),\n",
              "    response: {\n",
              "      action: 'starting',\n",
              "    }\n",
              "  };\n",
              "\n",
              "  cancel.remove();\n",
              "\n",
              "  // Disable the input element since further picks are not allowed.\n",
              "  inputElement.disabled = true;\n",
              "\n",
              "  if (!files) {\n",
              "    return {\n",
              "      response: {\n",
              "        action: 'complete',\n",
              "      }\n",
              "    };\n",
              "  }\n",
              "\n",
              "  for (const file of files) {\n",
              "    const li = document.createElement('li');\n",
              "    li.append(span(file.name, {fontWeight: 'bold'}));\n",
              "    li.append(span(\n",
              "        `(${file.type || 'n/a'}) - ${file.size} bytes, ` +\n",
              "        `last modified: ${\n",
              "            file.lastModifiedDate ? file.lastModifiedDate.toLocaleDateString() :\n",
              "                                    'n/a'} - `));\n",
              "    const percent = span('0% done');\n",
              "    li.appendChild(percent);\n",
              "\n",
              "    outputElement.appendChild(li);\n",
              "\n",
              "    const fileDataPromise = new Promise((resolve) => {\n",
              "      const reader = new FileReader();\n",
              "      reader.onload = (e) => {\n",
              "        resolve(e.target.result);\n",
              "      };\n",
              "      reader.readAsArrayBuffer(file);\n",
              "    });\n",
              "    // Wait for the data to be ready.\n",
              "    let fileData = yield {\n",
              "      promise: fileDataPromise,\n",
              "      response: {\n",
              "        action: 'continue',\n",
              "      }\n",
              "    };\n",
              "\n",
              "    // Use a chunked sending to avoid message size limits. See b/62115660.\n",
              "    let position = 0;\n",
              "    do {\n",
              "      const length = Math.min(fileData.byteLength - position, MAX_PAYLOAD_SIZE);\n",
              "      const chunk = new Uint8Array(fileData, position, length);\n",
              "      position += length;\n",
              "\n",
              "      const base64 = btoa(String.fromCharCode.apply(null, chunk));\n",
              "      yield {\n",
              "        response: {\n",
              "          action: 'append',\n",
              "          file: file.name,\n",
              "          data: base64,\n",
              "        },\n",
              "      };\n",
              "\n",
              "      let percentDone = fileData.byteLength === 0 ?\n",
              "          100 :\n",
              "          Math.round((position / fileData.byteLength) * 100);\n",
              "      percent.textContent = `${percentDone}% done`;\n",
              "\n",
              "    } while (position < fileData.byteLength);\n",
              "  }\n",
              "\n",
              "  // All done.\n",
              "  yield {\n",
              "    response: {\n",
              "      action: 'complete',\n",
              "    }\n",
              "  };\n",
              "}\n",
              "\n",
              "scope.google = scope.google || {};\n",
              "scope.google.colab = scope.google.colab || {};\n",
              "scope.google.colab._files = {\n",
              "  _uploadFiles,\n",
              "  _uploadFilesContinue,\n",
              "};\n",
              "})(self);\n",
              "</script> "
            ]
          },
          "metadata": {}
        },
        {
          "output_type": "stream",
          "name": "stdout",
          "text": [
            "Saving 00000015.jpg to 00000015.jpg\n",
            "Hasil Prediksi: \n",
            "1/1 [==============================] - 0s 62ms/step\n"
          ]
        },
        {
          "output_type": "display_data",
          "data": {
            "text/plain": [
              "<Figure size 288x288 with 1 Axes>"
            ],
            "image/png": "[encoded data removed]"
          },
          "metadata": {
            "needs_background": "light"
          }
        }
      ]
    },
    {
      "cell_type": "code",
      "source": [
        "model.save(\"/content/drive/MyDrive/PA/Model/model.h5\")\n",
        "\n",
        "model.save(\"/content/drive/MyDrive/PA/Model\")\n",
        "\n",
        "import tensorflow as tf\n",
        "from keras.models import load_model\n",
        "\n",
        "modelku = load_model('/content/drive/MyDrive/PA/Model')\n",
        "\n",
        "converter = tf.lite.TFLiteConverter.from_keras_model(modelku)\n",
        "converter.experimental_new_converter = True\n",
        "tflite_model = converter.convert()\n",
        "open(\"/content/drive/MyDrive/PA/Model/converted_model.tflite\", \"wb\").write(tflite_model)"
      ],
      "metadata": {
        "id": "tpZdsgXt1MQx"
      },
      "execution_count": null,
      "outputs": []
    }
  ]
}